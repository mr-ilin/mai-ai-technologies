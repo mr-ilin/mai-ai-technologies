{
 "cells": [
  {
   "cell_type": "code",
   "execution_count": 42,
   "metadata": {},
   "outputs": [],
   "source": [
    "import os\n",
    "import numpy as np\n",
    "import tensorflow as tf\n",
    "import matplotlib.pyplot as plt\n",
    "from sklearn.metrics import f1_score\n",
    "from tensorflow.keras.applications import ResNet50,VGG16\n",
    "from keras_resnet.models import ResNet18\n",
    "from tensorflow.keras import layers, models\n",
    "import random\n",
    "from tensorflow.keras.models import Model\n",
    "from tensorflow.keras.layers import Dense, Flatten\n"
   ]
  },
  {
   "cell_type": "code",
   "execution_count": null,
   "metadata": {},
   "outputs": [],
   "source": [
    "image_size = 32\n",
    "batch_size = 4 "
   ]
  },
  {
   "cell_type": "markdown",
   "metadata": {},
   "source": [
    "Функция для загрузки данных. Проходит по всем папкам в директории, где каждая папка представляет отдельный класс (кошки или собаки).  \n",
    "Загружает изображения, ресайзит их до 32x32 и нормализует.  \n",
    "Возвращает массивы изображений (images) и меток (labels).  "
   ]
  },
  {
   "cell_type": "code",
   "execution_count": 44,
   "metadata": {},
   "outputs": [],
   "source": [
    "def load_data(directory, image_size):\n",
    "    images = []\n",
    "    labels = []\n",
    "    for idx, label_dir in enumerate(os.listdir(directory)):\n",
    "        if os.path.isdir(os.path.join(directory, label_dir)):\n",
    "            label = idx #назначаем метку (0 — первая папка, 1 — вторая папка)\n",
    "            for img in os.listdir(os.path.join(directory, label_dir)):\n",
    "                img_path = os.path.join(directory, label_dir, img)\n",
    "                if os.path.isfile(img_path):\n",
    "                    image = tf.io.read_file(img_path)\n",
    "                    image = tf.image.decode_jpeg(image, channels=3)\n",
    "                    image = tf.image.resize(image, [image_size, image_size])\n",
    "                    image /= 255.0\n",
    "                    images.append(image)\n",
    "                    labels.append(label)\n",
    "    return np.array(images), np.array(labels)\n"
   ]
  },
  {
   "cell_type": "code",
   "execution_count": 45,
   "metadata": {},
   "outputs": [],
   "source": [
    "images, labels = load_data(r\"data\\dogs_cats\", image_size=image_size)\n"
   ]
  },
  {
   "cell_type": "code",
   "execution_count": 46,
   "metadata": {},
   "outputs": [
    {
     "data": {
      "text/plain": [
       "(array([1106.,    0.,    0.,    0.,    0.,    0.,    0.,    0.,    0.,\n",
       "        2105.]),\n",
       " array([0. , 0.1, 0.2, 0.3, 0.4, 0.5, 0.6, 0.7, 0.8, 0.9, 1. ]),\n",
       " <BarContainer object of 10 artists>)"
      ]
     },
     "execution_count": 46,
     "metadata": {},
     "output_type": "execute_result"
    },
    {
     "data": {
      "image/png": "[encoded data removed]",
      "text/plain": [
       "<Figure size 640x480 with 1 Axes>"
      ]
     },
     "metadata": {},
     "output_type": "display_data"
    }
   ],
   "source": [
    "plt.hist(labels) "
   ]
  },
  {
   "cell_type": "markdown",
   "metadata": {},
   "source": [
    "Разделяем данные для обучения (80%) и тестирования (20%).  \n",
    "Создаем датасеты и перемешиваем данные.  "
   ]
  },
  {
   "cell_type": "code",
   "execution_count": 47,
   "metadata": {},
   "outputs": [],
   "source": [
    "from sklearn.model_selection import train_test_split\n",
    "\n",
    "train_images, test_images, train_labels, test_labels = train_test_split(\n",
    "    images, labels, test_size=0.2, random_state=42, stratify=labels)\n"
   ]
  },
  {
   "cell_type": "code",
   "execution_count": 48,
   "metadata": {},
   "outputs": [],
   "source": [
    "del images\n",
    "del labels"
   ]
  },
  {
   "cell_type": "markdown",
   "metadata": {},
   "source": [
    "Тестовый набор данных"
   ]
  },
  {
   "cell_type": "code",
   "execution_count": 49,
   "metadata": {},
   "outputs": [],
   "source": [
    "test_ds = tf.data.Dataset.from_tensor_slices((test_images, test_labels)).batch(batch_size)"
   ]
  },
  {
   "cell_type": "markdown",
   "metadata": {},
   "source": [
    "Используем модель VGG16 и настраиваем."
   ]
  },
  {
   "cell_type": "code",
   "execution_count": null,
   "metadata": {},
   "outputs": [],
   "source": [
    "from keras_resnet.models import ResNet18\n",
    "from tensorflow.keras.layers import Input\n",
    "\n",
    "def create_model():\n",
    "    inputs = Input(shape=(image_size, image_size, 3))\n",
    "    base_model = VGG16(weights='imagenet', include_top=False, input_shape=(image_size, image_size, 3))\n",
    "    \n",
    "    x = base_model.output\n",
    "    x = Flatten()(x)\n",
    "    x = Dense(1024, activation='relu')(x)\n",
    "    predictions = Dense(1, activation='sigmoid')(x)  \n",
    "    model = Model(inputs=base_model.input, outputs=predictions)\n",
    "    model.compile(optimizer='adam',\n",
    "                  loss='binary_crossentropy',  #бинарная классификация\n",
    "                  metrics=['accuracy'])\n",
    "    return model\n",
    "\n"
   ]
  },
  {
   "cell_type": "markdown",
   "metadata": {},
   "source": [
    "Обучение модели, считаем f1-метрику."
   ]
  },
  {
   "cell_type": "code",
   "execution_count": 54,
   "metadata": {},
   "outputs": [],
   "source": [
    "def train_and_evaluate(train_images, train_labels, test_ds, epochs=10):\n",
    "    train_ds = tf.data.Dataset.from_tensor_slices((train_images, train_labels)).shuffle(len(train_images)).batch(batch_size)\n",
    "    model = create_model()\n",
    "    model.fit(train_ds, epochs=2, validation_data=test_ds)\n",
    "    y_pred = model.predict(test_images)\n",
    "    y_pred_classes = (y_pred > 0.5).astype(int)\n",
    "    return f1_score(test_labels, y_pred_classes, average='macro')"
   ]
  },
  {
   "cell_type": "code",
   "execution_count": null,
   "metadata": {},
   "outputs": [
    {
     "name": "stdout",
     "output_type": "stream",
     "text": [
      "Epoch 1/2\n",
      "\u001b[1m642/642\u001b[0m \u001b[32m━━━━━━━━━━━━━━━━━━━━\u001b[0m\u001b[37m\u001b[0m \u001b[1m193s\u001b[0m 294ms/step - accuracy: 0.6022 - loss: 0.7222 - val_accuracy: 0.6563 - val_loss: 0.6565\n",
      "Epoch 2/2\n",
      "\u001b[1m642/642\u001b[0m \u001b[32m━━━━━━━━━━━━━━━━━━━━\u001b[0m\u001b[37m\u001b[0m \u001b[1m189s\u001b[0m 295ms/step - accuracy: 0.6488 - loss: 0.6523 - val_accuracy: 0.6563 - val_loss: 0.6435\n",
      "\u001b[1m21/21\u001b[0m \u001b[32m━━━━━━━━━━━━━━━━━━━━\u001b[0m\u001b[37m\u001b[0m \u001b[1m4s\u001b[0m 184ms/step\n",
      "F1-метрика (весь набор данных): 0.3962\n",
      "Epoch 1/2\n",
      "\u001b[1m7/7\u001b[0m \u001b[32m━━━━━━━━━━━━━━━━━━━━\u001b[0m\u001b[37m\u001b[0m \u001b[1m15s\u001b[0m 2s/step - accuracy: 0.6263 - loss: 1.5607 - val_accuracy: 0.6563 - val_loss: 0.8217\n",
      "Epoch 2/2\n",
      "\u001b[1m7/7\u001b[0m \u001b[32m━━━━━━━━━━━━━━━━━━━━\u001b[0m\u001b[37m\u001b[0m \u001b[1m10s\u001b[0m 2s/step - accuracy: 0.5859 - loss: 0.8388 - val_accuracy: 0.6563 - val_loss: 0.6765\n",
      "\u001b[1m21/21\u001b[0m \u001b[32m━━━━━━━━━━━━━━━━━━━━\u001b[0m\u001b[37m\u001b[0m \u001b[1m4s\u001b[0m 184ms/step\n",
      "Epoch 1/2\n",
      "\u001b[1m7/7\u001b[0m \u001b[32m━━━━━━━━━━━━━━━━━━━━\u001b[0m\u001b[37m\u001b[0m \u001b[1m15s\u001b[0m 2s/step - accuracy: 0.3792 - loss: 11.2904 - val_accuracy: 0.6563 - val_loss: 0.7732\n",
      "Epoch 2/2\n",
      "\u001b[1m7/7\u001b[0m \u001b[32m━━━━━━━━━━━━━━━━━━━━\u001b[0m\u001b[37m\u001b[0m \u001b[1m10s\u001b[0m 2s/step - accuracy: 0.6668 - loss: 0.7324 - val_accuracy: 0.3437 - val_loss: 1.1251\n",
      "\u001b[1m21/21\u001b[0m \u001b[32m━━━━━━━━━━━━━━━━━━━━\u001b[0m\u001b[37m\u001b[0m \u001b[1m4s\u001b[0m 183ms/step\n",
      "Epoch 1/2\n",
      "\u001b[1m7/7\u001b[0m \u001b[32m━━━━━━━━━━━━━━━━━━━━\u001b[0m\u001b[37m\u001b[0m \u001b[1m15s\u001b[0m 2s/step - accuracy: 0.5407 - loss: 5.1003 - val_accuracy: 0.6563 - val_loss: 0.6506\n",
      "Epoch 2/2\n",
      "\u001b[1m7/7\u001b[0m \u001b[32m━━━━━━━━━━━━━━━━━━━━\u001b[0m\u001b[37m\u001b[0m \u001b[1m10s\u001b[0m 2s/step - accuracy: 0.8339 - loss: 0.5314 - val_accuracy: 0.6563 - val_loss: 0.6976\n",
      "\u001b[1m21/21\u001b[0m \u001b[32m━━━━━━━━━━━━━━━━━━━━\u001b[0m\u001b[37m\u001b[0m \u001b[1m4s\u001b[0m 183ms/step\n",
      "Epoch 1/2\n",
      "\u001b[1m7/7\u001b[0m \u001b[32m━━━━━━━━━━━━━━━━━━━━\u001b[0m\u001b[37m\u001b[0m \u001b[1m15s\u001b[0m 2s/step - accuracy: 0.7160 - loss: 6.2086 - val_accuracy: 0.3437 - val_loss: 0.7820\n",
      "Epoch 2/2\n",
      "\u001b[1m7/7\u001b[0m \u001b[32m━━━━━━━━━━━━━━━━━━━━\u001b[0m\u001b[37m\u001b[0m \u001b[1m10s\u001b[0m 2s/step - accuracy: 0.4646 - loss: 0.7156 - val_accuracy: 0.3437 - val_loss: 0.7731\n",
      "\u001b[1m21/21\u001b[0m \u001b[32m━━━━━━━━━━━━━━━━━━━━\u001b[0m\u001b[37m\u001b[0m \u001b[1m4s\u001b[0m 182ms/step\n",
      "Epoch 1/2\n",
      "\u001b[1m7/7\u001b[0m \u001b[32m━━━━━━━━━━━━━━━━━━━━\u001b[0m\u001b[37m\u001b[0m \u001b[1m15s\u001b[0m 2s/step - accuracy: 0.5099 - loss: 4.3883 - val_accuracy: 0.6563 - val_loss: 0.6455\n",
      "Epoch 2/2\n",
      "\u001b[1m7/7\u001b[0m \u001b[32m━━━━━━━━━━━━━━━━━━━━\u001b[0m\u001b[37m\u001b[0m \u001b[1m10s\u001b[0m 2s/step - accuracy: 0.7779 - loss: 0.6281 - val_accuracy: 0.6563 - val_loss: 0.6424\n",
      "\u001b[1m21/21\u001b[0m \u001b[32m━━━━━━━━━━━━━━━━━━━━\u001b[0m\u001b[37m\u001b[0m \u001b[1m4s\u001b[0m 183ms/step\n",
      "Epoch 1/2\n",
      "\u001b[1m64/64\u001b[0m \u001b[32m━━━━━━━━━━━━━━━━━━━━\u001b[0m\u001b[37m\u001b[0m \u001b[1m31s\u001b[0m 420ms/step - accuracy: 0.6046 - loss: 18.7633 - val_accuracy: 0.6563 - val_loss: 0.6461\n",
      "Epoch 2/2\n",
      "\u001b[1m64/64\u001b[0m \u001b[32m━━━━━━━━━━━━━━━━━━━━\u001b[0m\u001b[37m\u001b[0m \u001b[1m26s\u001b[0m 415ms/step - accuracy: 0.6167 - loss: 0.6857 - val_accuracy: 0.6563 - val_loss: 0.6443\n",
      "\u001b[1m21/21\u001b[0m \u001b[32m━━━━━━━━━━━━━━━━━━━━\u001b[0m\u001b[37m\u001b[0m \u001b[1m4s\u001b[0m 185ms/step\n",
      "Epoch 1/2\n",
      "\u001b[1m64/64\u001b[0m \u001b[32m━━━━━━━━━━━━━━━━━━━━\u001b[0m\u001b[37m\u001b[0m \u001b[1m32s\u001b[0m 421ms/step - accuracy: 0.6680 - loss: 1.0163 - val_accuracy: 0.6563 - val_loss: 0.6897\n",
      "Epoch 2/2\n",
      "\u001b[1m64/64\u001b[0m \u001b[32m━━━━━━━━━━━━━━━━━━━━\u001b[0m\u001b[37m\u001b[0m \u001b[1m26s\u001b[0m 414ms/step - accuracy: 0.7192 - loss: 0.6075 - val_accuracy: 0.6563 - val_loss: 0.6604\n",
      "\u001b[1m21/21\u001b[0m \u001b[32m━━━━━━━━━━━━━━━━━━━━\u001b[0m\u001b[37m\u001b[0m \u001b[1m4s\u001b[0m 185ms/step\n",
      "Epoch 1/2\n",
      "\u001b[1m64/64\u001b[0m \u001b[32m━━━━━━━━━━━━━━━━━━━━\u001b[0m\u001b[37m\u001b[0m \u001b[1m31s\u001b[0m 420ms/step - accuracy: 0.5609 - loss: 0.9517 - val_accuracy: 0.3437 - val_loss: 0.7233\n",
      "Epoch 2/2\n",
      "\u001b[1m64/64\u001b[0m \u001b[32m━━━━━━━━━━━━━━━━━━━━\u001b[0m\u001b[37m\u001b[0m \u001b[1m26s\u001b[0m 413ms/step - accuracy: 0.5716 - loss: 0.6909 - val_accuracy: 0.6563 - val_loss: 0.6557\n",
      "\u001b[1m21/21\u001b[0m \u001b[32m━━━━━━━━━━━━━━━━━━━━\u001b[0m\u001b[37m\u001b[0m \u001b[1m4s\u001b[0m 189ms/step\n",
      "Epoch 1/2\n",
      "\u001b[1m64/64\u001b[0m \u001b[32m━━━━━━━━━━━━━━━━━━━━\u001b[0m\u001b[37m\u001b[0m \u001b[1m31s\u001b[0m 421ms/step - accuracy: 0.6493 - loss: 2.0620 - val_accuracy: 0.6563 - val_loss: 0.6732\n",
      "Epoch 2/2\n",
      "\u001b[1m64/64\u001b[0m \u001b[32m━━━━━━━━━━━━━━━━━━━━\u001b[0m\u001b[37m\u001b[0m \u001b[1m26s\u001b[0m 414ms/step - accuracy: 0.7248 - loss: 0.7153 - val_accuracy: 0.6563 - val_loss: 0.7066\n",
      "\u001b[1m21/21\u001b[0m \u001b[32m━━━━━━━━━━━━━━━━━━━━\u001b[0m\u001b[37m\u001b[0m \u001b[1m4s\u001b[0m 185ms/step\n",
      "Epoch 1/2\n",
      "\u001b[1m64/64\u001b[0m \u001b[32m━━━━━━━━━━━━━━━━━━━━\u001b[0m\u001b[37m\u001b[0m \u001b[1m32s\u001b[0m 439ms/step - accuracy: 0.6163 - loss: 1.2685 - val_accuracy: 0.6563 - val_loss: 0.6495\n",
      "Epoch 2/2\n",
      "\u001b[1m64/64\u001b[0m \u001b[32m━━━━━━━━━━━━━━━━━━━━\u001b[0m\u001b[37m\u001b[0m \u001b[1m26s\u001b[0m 415ms/step - accuracy: 0.6981 - loss: 0.6287 - val_accuracy: 0.6563 - val_loss: 0.6435\n",
      "\u001b[1m21/21\u001b[0m \u001b[32m━━━━━━━━━━━━━━━━━━━━\u001b[0m\u001b[37m\u001b[0m \u001b[1m4s\u001b[0m 184ms/step\n",
      "Epoch 1/2\n",
      "\u001b[1m129/129\u001b[0m \u001b[32m━━━━━━━━━━━━━━━━━━━━\u001b[0m\u001b[37m\u001b[0m \u001b[1m50s\u001b[0m 349ms/step - accuracy: 0.5955 - loss: 16.0553 - val_accuracy: 0.6563 - val_loss: 0.6426\n",
      "Epoch 2/2\n",
      "\u001b[1m129/129\u001b[0m \u001b[32m━━━━━━━━━━━━━━━━━━━━\u001b[0m\u001b[37m\u001b[0m \u001b[1m45s\u001b[0m 347ms/step - accuracy: 0.6684 - loss: 0.6317 - val_accuracy: 0.6563 - val_loss: 0.6491\n",
      "\u001b[1m21/21\u001b[0m \u001b[32m━━━━━━━━━━━━━━━━━━━━\u001b[0m\u001b[37m\u001b[0m \u001b[1m4s\u001b[0m 185ms/step\n",
      "Epoch 1/2\n",
      "\u001b[1m129/129\u001b[0m \u001b[32m━━━━━━━━━━━━━━━━━━━━\u001b[0m\u001b[37m\u001b[0m \u001b[1m50s\u001b[0m 351ms/step - accuracy: 0.5634 - loss: 0.9675 - val_accuracy: 0.6563 - val_loss: 0.6405\n",
      "Epoch 2/2\n",
      "\u001b[1m129/129\u001b[0m \u001b[32m━━━━━━━━━━━━━━━━━━━━\u001b[0m\u001b[37m\u001b[0m \u001b[1m45s\u001b[0m 347ms/step - accuracy: 0.6002 - loss: 0.7059 - val_accuracy: 0.6563 - val_loss: 0.6441\n",
      "\u001b[1m21/21\u001b[0m \u001b[32m━━━━━━━━━━━━━━━━━━━━\u001b[0m\u001b[37m\u001b[0m \u001b[1m4s\u001b[0m 190ms/step\n",
      "Epoch 1/2\n",
      "\u001b[1m129/129\u001b[0m \u001b[32m━━━━━━━━━━━━━━━━━━━━\u001b[0m\u001b[37m\u001b[0m \u001b[1m49s\u001b[0m 346ms/step - accuracy: 0.6478 - loss: 0.9723 - val_accuracy: 0.3437 - val_loss: 0.7422\n",
      "Epoch 2/2\n",
      "\u001b[1m129/129\u001b[0m \u001b[32m━━━━━━━━━━━━━━━━━━━━\u001b[0m\u001b[37m\u001b[0m \u001b[1m44s\u001b[0m 344ms/step - accuracy: 0.5998 - loss: 0.7079 - val_accuracy: 0.6563 - val_loss: 0.6618\n",
      "\u001b[1m21/21\u001b[0m \u001b[32m━━━━━━━━━━━━━━━━━━━━\u001b[0m\u001b[37m\u001b[0m \u001b[1m4s\u001b[0m 188ms/step\n",
      "Epoch 1/2\n",
      "\u001b[1m129/129\u001b[0m \u001b[32m━━━━━━━━━━━━━━━━━━━━\u001b[0m\u001b[37m\u001b[0m \u001b[1m51s\u001b[0m 364ms/step - accuracy: 0.5485 - loss: 0.9086 - val_accuracy: 0.6563 - val_loss: 0.6660\n",
      "Epoch 2/2\n",
      "\u001b[1m129/129\u001b[0m \u001b[32m━━━━━━━━━━━━━━━━━━━━\u001b[0m\u001b[37m\u001b[0m \u001b[1m46s\u001b[0m 354ms/step - accuracy: 0.6815 - loss: 0.6497 - val_accuracy: 0.6563 - val_loss: 0.6460\n",
      "\u001b[1m21/21\u001b[0m \u001b[32m━━━━━━━━━━━━━━━━━━━━\u001b[0m\u001b[37m\u001b[0m \u001b[1m4s\u001b[0m 190ms/step\n",
      "Epoch 1/2\n",
      "\u001b[1m129/129\u001b[0m \u001b[32m━━━━━━━━━━━━━━━━━━━━\u001b[0m\u001b[37m\u001b[0m \u001b[1m50s\u001b[0m 346ms/step - accuracy: 0.6280 - loss: 1.0357 - val_accuracy: 0.6563 - val_loss: 0.6483\n",
      "Epoch 2/2\n",
      "\u001b[1m129/129\u001b[0m \u001b[32m━━━━━━━━━━━━━━━━━━━━\u001b[0m\u001b[37m\u001b[0m \u001b[1m44s\u001b[0m 343ms/step - accuracy: 0.5953 - loss: 0.6993 - val_accuracy: 0.6563 - val_loss: 0.6598\n",
      "\u001b[1m21/21\u001b[0m \u001b[32m━━━━━━━━━━━━━━━━━━━━\u001b[0m\u001b[37m\u001b[0m \u001b[1m4s\u001b[0m 185ms/step\n",
      "F1-метрика (1% данных, средняя): 0.3401\n",
      "F1-метрика (10% данных, средняя): 0.3962\n",
      "F1-метрика (20% данных, средняя): 0.3962\n"
     ]
    }
   ],
   "source": [
    "\n",
    "#обучение на всем обучающем наборе\n",
    "f1_full = train_and_evaluate(train_images, train_labels, test_ds)\n",
    "print(f\"F1-метрика (весь набор данных): {f1_full:.4f}\")\n",
    "\n",
    "#обучение на 1%, 10%, 20% обучающего набора\n",
    "percentages = [0.01, 0.1, 0.2]\n",
    "results = {p: [] for p in percentages}\n",
    "\n",
    "for p in percentages:\n",
    "    for _ in range(5):  \n",
    "        sample_size = int(len(train_images) * p)\n",
    "        indices = random.sample(range(len(train_images)), sample_size)\n",
    "        train_images_sample = train_images[indices]\n",
    "        train_labels_sample = train_labels[indices]\n",
    "\n",
    "        #обучение и оценка\n",
    "        f1 = train_and_evaluate(train_images_sample, train_labels_sample, test_ds)\n",
    "        results[p].append(f1)\n",
    "\n",
    "for p, scores in results.items():\n",
    "    mean_f1 = np.mean(scores)\n",
    "    print(f\"F1-метрика ({int(p * 100)}% данных, средняя): {mean_f1:.4f}\")\n"
   ]
  },
  {
   "cell_type": "code",
   "execution_count": 60,
   "metadata": {},
   "outputs": [
    {
     "data": {
      "text/plain": [
       "[<matplotlib.lines.Line2D at 0x16650e49d90>]"
      ]
     },
     "execution_count": 60,
     "metadata": {},
     "output_type": "execute_result"
    },
    {
     "data": {
      "image/png": "[encoded data removed]",
      "text/plain": [
       "<Figure size 640x480 with 1 Axes>"
      ]
     },
     "metadata": {},
     "output_type": "display_data"
    }
   ],
   "source": [
    "import matplotlib.pyplot as plt\n",
    "plt.plot([np.mean(x) for x  in results.values()])"
   ]
  },
  {
   "cell_type": "code",
   "execution_count": null,
   "metadata": {},
   "outputs": [],
   "source": [
    "from sklearn.cluster import KMeans\n",
    "\n",
    "# 1. Least Confidence (LC)\n",
    "def least_confidence_selection(model, unlabeled_data, n_samples):\n",
    "    \"\"\"Отбор наиболее неопределенных данных на основе наименьшей уверенности.\"\"\"\n",
    "    predictions = model.predict(unlabeled_data)\n",
    "    uncertainties = 1 - np.max(predictions, axis=1)  \n",
    "    uncertain_indices = np.argsort(uncertainties)[-n_samples:]  \n",
    "    return uncertain_indices\n",
    "\n",
    "# 2. Cluster Margin\n",
    "def cluster_margin_selection(embeddings, n_samples):\n",
    "    \"\"\"Отбор данных на основе кластерного анализа.\"\"\"\n",
    "    kmeans = KMeans(n_clusters=n_samples, random_state=42)\n",
    "    kmeans.fit(embeddings)\n",
    "    closest_indices = []\n",
    "    for center in kmeans.cluster_centers_:\n",
    "        distances = np.linalg.norm(embeddings - center, axis=1)\n",
    "        closest_indices.append(np.argmin(distances))\n",
    "    return closest_indices\n",
    "\n",
    "# 3. MNLP\n",
    "def mnlp_selection(model, unlabeled_data, n_samples):\n",
    "    predictions = model.predict(unlabeled_data)\n",
    "    log_probs = np.log(predictions + 1e-10)\n",
    "    normalized_log_probs = log_probs / np.linalg.norm(log_probs, axis=1, keepdims=True)\n",
    "    scores = np.sum(normalized_log_probs, axis=1)\n",
    "    mnlp_indices = np.argsort(scores)[-n_samples:]\n",
    "    return mnlp_indices\n",
    "\n",
    "# 4. Bald\n",
    "def bald_selection(model, unlabeled_data, n_samples, num_mc_samples=10):\n",
    "    f_model = tf.keras.models.Model(inputs=model.input, outputs=model.output)\n",
    "    f_model.trainable = False\n",
    "\n",
    "    mc_predictions = np.stack([\n",
    "        f_model.predict(unlabeled_data, batch_size=batch_size, verbose=0)\n",
    "        for _ in range(num_mc_samples)\n",
    "    ])\n",
    "\n",
    "    mean_prob = mc_predictions.mean(axis=0)\n",
    "    entropy = -np.sum(mean_prob * np.log(mean_prob + 1e-10), axis=1)\n",
    "\n",
    "    mc_entropy = -np.sum(mc_predictions * np.log(mc_predictions + 1e-10), axis=2)\n",
    "    mean_mc_entropy = mc_entropy.mean(axis=0)\n",
    "    bald_score = entropy - mean_mc_entropy  \n",
    "\n",
    "    bald_indices = np.argsort(bald_score)[-n_samples:]\n",
    "    return bald_indices\n"
   ]
  },
  {
   "cell_type": "code",
   "execution_count": null,
   "metadata": {},
   "outputs": [
    {
     "name": "stdout",
     "output_type": "stream",
     "text": [
      "\u001b[1m81/81\u001b[0m \u001b[32m━━━━━━━━━━━━━━━━━━━━\u001b[0m\u001b[37m\u001b[0m \u001b[1m17s\u001b[0m 206ms/step\n",
      "Epoch 1/2\n"
     ]
    },
    {
     "ename": "AbortedError",
     "evalue": "Graph execution error:\n\nDetected at node StatefulPartitionedCall/gradient_tape/functional_30_1/block5_conv3_1/convolution/Conv2DBackpropFilter defined at (most recent call last):\n<stack traces unavailable>\nOperation received an exception:Status: 1, message: could not create a primitive, in file tensorflow/core/kernels/mkl/mkl_conv_grad_filter_ops.cc:685\n\t [[{{node StatefulPartitionedCall/gradient_tape/functional_30_1/block5_conv3_1/convolution/Conv2DBackpropFilter}}]] [Op:__inference_multi_step_on_iterator_360894]",
     "output_type": "error",
     "traceback": [
      "\u001b[1;31m---------------------------------------------------------------------------\u001b[0m",
      "\u001b[1;31mAbortedError\u001b[0m                              Traceback (most recent call last)",
      "Cell \u001b[1;32mIn[63], line 16\u001b[0m\n\u001b[0;32m     14\u001b[0m lc_images \u001b[38;5;241m=\u001b[39m unlabeled_data[lc_indices]\n\u001b[0;32m     15\u001b[0m lc_labels \u001b[38;5;241m=\u001b[39m train_labels[lc_indices]\n\u001b[1;32m---> 16\u001b[0m f1_lc \u001b[38;5;241m=\u001b[39m \u001b[43mtrain_and_evaluate\u001b[49m\u001b[43m(\u001b[49m\u001b[43mlc_images\u001b[49m\u001b[43m,\u001b[49m\u001b[43m \u001b[49m\u001b[43mlc_labels\u001b[49m\u001b[43m,\u001b[49m\u001b[43m \u001b[49m\u001b[43mtest_ds\u001b[49m\u001b[43m)\u001b[49m\n\u001b[0;32m     17\u001b[0m active_learning_results[p][\u001b[38;5;124m\"\u001b[39m\u001b[38;5;124mLC\u001b[39m\u001b[38;5;124m\"\u001b[39m]\u001b[38;5;241m.\u001b[39mappend(f1_lc)\n\u001b[0;32m     19\u001b[0m \u001b[38;5;66;03m# Cluster Margin\u001b[39;00m\n",
      "Cell \u001b[1;32mIn[54], line 4\u001b[0m, in \u001b[0;36mtrain_and_evaluate\u001b[1;34m(train_images, train_labels, test_ds, epochs)\u001b[0m\n\u001b[0;32m      2\u001b[0m train_ds \u001b[38;5;241m=\u001b[39m tf\u001b[38;5;241m.\u001b[39mdata\u001b[38;5;241m.\u001b[39mDataset\u001b[38;5;241m.\u001b[39mfrom_tensor_slices((train_images, train_labels))\u001b[38;5;241m.\u001b[39mshuffle(\u001b[38;5;28mlen\u001b[39m(train_images))\u001b[38;5;241m.\u001b[39mbatch(batch_size)\n\u001b[0;32m      3\u001b[0m model \u001b[38;5;241m=\u001b[39m create_model()\n\u001b[1;32m----> 4\u001b[0m \u001b[43mmodel\u001b[49m\u001b[38;5;241;43m.\u001b[39;49m\u001b[43mfit\u001b[49m\u001b[43m(\u001b[49m\u001b[43mtrain_ds\u001b[49m\u001b[43m,\u001b[49m\u001b[43m \u001b[49m\u001b[43mepochs\u001b[49m\u001b[38;5;241;43m=\u001b[39;49m\u001b[38;5;241;43m2\u001b[39;49m\u001b[43m,\u001b[49m\u001b[43m \u001b[49m\u001b[43mvalidation_data\u001b[49m\u001b[38;5;241;43m=\u001b[39;49m\u001b[43mtest_ds\u001b[49m\u001b[43m)\u001b[49m\n\u001b[0;32m      5\u001b[0m y_pred \u001b[38;5;241m=\u001b[39m model\u001b[38;5;241m.\u001b[39mpredict(test_images)\n\u001b[0;32m      6\u001b[0m y_pred_classes \u001b[38;5;241m=\u001b[39m (y_pred \u001b[38;5;241m>\u001b[39m \u001b[38;5;241m0.5\u001b[39m)\u001b[38;5;241m.\u001b[39mastype(\u001b[38;5;28mint\u001b[39m)\n",
      "File \u001b[1;32md:\\Python312\\Lib\\site-packages\\keras\\src\\utils\\traceback_utils.py:122\u001b[0m, in \u001b[0;36mfilter_traceback.<locals>.error_handler\u001b[1;34m(*args, **kwargs)\u001b[0m\n\u001b[0;32m    119\u001b[0m     filtered_tb \u001b[38;5;241m=\u001b[39m _process_traceback_frames(e\u001b[38;5;241m.\u001b[39m__traceback__)\n\u001b[0;32m    120\u001b[0m     \u001b[38;5;66;03m# To get the full stack trace, call:\u001b[39;00m\n\u001b[0;32m    121\u001b[0m     \u001b[38;5;66;03m# `keras.config.disable_traceback_filtering()`\u001b[39;00m\n\u001b[1;32m--> 122\u001b[0m     \u001b[38;5;28;01mraise\u001b[39;00m e\u001b[38;5;241m.\u001b[39mwith_traceback(filtered_tb) \u001b[38;5;28;01mfrom\u001b[39;00m \u001b[38;5;28;01mNone\u001b[39;00m\n\u001b[0;32m    123\u001b[0m \u001b[38;5;28;01mfinally\u001b[39;00m:\n\u001b[0;32m    124\u001b[0m     \u001b[38;5;28;01mdel\u001b[39;00m filtered_tb\n",
      "File \u001b[1;32md:\\Python312\\Lib\\site-packages\\tensorflow\\python\\eager\\execute.py:53\u001b[0m, in \u001b[0;36mquick_execute\u001b[1;34m(op_name, num_outputs, inputs, attrs, ctx, name)\u001b[0m\n\u001b[0;32m     51\u001b[0m \u001b[38;5;28;01mtry\u001b[39;00m:\n\u001b[0;32m     52\u001b[0m   ctx\u001b[38;5;241m.\u001b[39mensure_initialized()\n\u001b[1;32m---> 53\u001b[0m   tensors \u001b[38;5;241m=\u001b[39m pywrap_tfe\u001b[38;5;241m.\u001b[39mTFE_Py_Execute(ctx\u001b[38;5;241m.\u001b[39m_handle, device_name, op_name,\n\u001b[0;32m     54\u001b[0m                                       inputs, attrs, num_outputs)\n\u001b[0;32m     55\u001b[0m \u001b[38;5;28;01mexcept\u001b[39;00m core\u001b[38;5;241m.\u001b[39m_NotOkStatusException \u001b[38;5;28;01mas\u001b[39;00m e:\n\u001b[0;32m     56\u001b[0m   \u001b[38;5;28;01mif\u001b[39;00m name \u001b[38;5;129;01mis\u001b[39;00m \u001b[38;5;129;01mnot\u001b[39;00m \u001b[38;5;28;01mNone\u001b[39;00m:\n",
      "\u001b[1;31mAbortedError\u001b[0m: Graph execution error:\n\nDetected at node StatefulPartitionedCall/gradient_tape/functional_30_1/block5_conv3_1/convolution/Conv2DBackpropFilter defined at (most recent call last):\n<stack traces unavailable>\nOperation received an exception:Status: 1, message: could not create a primitive, in file tensorflow/core/kernels/mkl/mkl_conv_grad_filter_ops.cc:685\n\t [[{{node StatefulPartitionedCall/gradient_tape/functional_30_1/block5_conv3_1/convolution/Conv2DBackpropFilter}}]] [Op:__inference_multi_step_on_iterator_360894]"
     ]
    }
   ],
   "source": [
    "#новый блок для активного обучения\n",
    "active_learning_results = {p: {\"LC\": [], \"ClusterMargin\": [], \"BALD\": [], \"MNLP\": []} for p in percentages}\n",
    "\n",
    "for p in percentages:\n",
    "    for _ in range(5):  \n",
    "        sample_size = int(len(train_images) * p)\n",
    "        unlabeled_data = train_images.copy()\n",
    "\n",
    "        #создаем новую модель для каждой итерации\n",
    "        model = create_model()\n",
    "\n",
    "        # Least Confidence\n",
    "        lc_indices = least_confidence_selection(model, unlabeled_data, sample_size)\n",
    "        lc_images = unlabeled_data[lc_indices]\n",
    "        lc_labels = train_labels[lc_indices]\n",
    "        f1_lc = train_and_evaluate(lc_images, lc_labels, test_ds)\n",
    "        active_learning_results[p][\"LC\"].append(f1_lc)\n",
    "\n",
    "        # Cluster Margin\n",
    "        embeddings_model = models.Model(inputs=model.input, outputs=model.layers[-2].output)\n",
    "        embeddings = embeddings_model.predict(unlabeled_data)\n",
    "        cm_indices = cluster_margin_selection(embeddings, sample_size)\n",
    "        cm_images = unlabeled_data[cm_indices]\n",
    "        cm_labels = train_labels[cm_indices]\n",
    "        f1_cm = train_and_evaluate(cm_images, cm_labels, test_ds)\n",
    "        active_learning_results[p][\"ClusterMargin\"].append(f1_cm)\n",
    "\n",
    "        # BALD\n",
    "        bald_indices = bald_selection(model, unlabeled_data, sample_size)\n",
    "        bald_images = unlabeled_data[bald_indices]\n",
    "        bald_labels = train_labels[bald_indices]\n",
    "        f1_bald = train_and_evaluate(bald_images, bald_labels, test_ds)\n",
    "        active_learning_results[p][\"BALD\"].append(f1_bald)\n",
    "\n",
    "        # Maximum Normalized Log-Probability\n",
    "        mnlp_indices = mnlp_selection(model, unlabeled_data, sample_size)\n",
    "        mnlp_images = unlabeled_data[mnlp_indices]\n",
    "        mnlp_labels = train_labels[mnlp_indices]\n",
    "        f1_mnlp = train_and_evaluate(mnlp_images, mnlp_labels, test_ds)\n",
    "        active_learning_results[p][\"MNLP\"].append(f1_mnlp)\n",
    "\n",
    "#вывод результатов\n",
    "for p, strategies in active_learning_results.items():\n",
    "    for strategy_name, scores in strategies.items():\n",
    "        mean_f1 = np.mean(scores)\n",
    "        print(f\"F1-метрика ({int(p * 100)}% данных, {strategy_name}, средняя): {mean_f1:.4f}\")\n",
    "\n",
    "#визуализация\n",
    "for strategy_name in [\"LC\", \"ClusterMargin\", \"BALD\", \"MNLP\"]:\n",
    "    plt.plot([np.mean(active_learning_results[p][strategy_name]) for p in percentages], label=strategy_name)\n",
    "\n",
    "plt.xlabel(\"Процент данных\")\n",
    "plt.ylabel(\"Средняя F1-метрика\")\n",
    "plt.legend()\n",
    "plt.show()\n"
   ]
  }
 ],
 "metadata": {
  "kernelspec": {
   "display_name": "Python 3",
   "language": "python",
   "name": "python3"
  },
  "language_info": {
   "codemirror_mode": {
    "name": "ipython",
    "version": 3
   },
   "file_extension": ".py",
   "mimetype": "text/x-python",
   "name": "python",
   "nbconvert_exporter": "python",
   "pygments_lexer": "ipython3",
   "version": "3.12.7"
  }
 },
 "nbformat": 4,
 "nbformat_minor": 2
}
